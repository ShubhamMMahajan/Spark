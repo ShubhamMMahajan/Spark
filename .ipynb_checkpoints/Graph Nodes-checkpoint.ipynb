{
 "cells": [
  {
   "cell_type": "code",
   "execution_count": null,
   "metadata": {},
   "outputs": [],
   "source": [
    "import findspark\n",
    "findspark.init()\n",
    "\n",
    "\n",
    "import pyspark\n",
    "import defaultdict\n",
    "\n",
    "\n",
    "sc = pyspark.SparkContext(appName=\"Graph Nodes\")\n",
    "\n",
    "file = open('Slashdot.txt', 'r')\n",
    "\n",
    "my_dict = defaultdict(list)\n",
    "for line in file:\n",
    "    words = line.split()\n",
    "    my_dict[words[0]].append(words[1])\n",
    "\n",
    "new_file = open('linked_nodes.txt', 'w')\n",
    "for key in my_dict.keys():\n",
    "    \n"
   ]
  }
 ],
 "metadata": {
  "kernelspec": {
   "display_name": "Python 3",
   "language": "python",
   "name": "python3"
  },
  "language_info": {
   "codemirror_mode": {
    "name": "ipython",
    "version": 3
   },
   "file_extension": ".py",
   "mimetype": "text/x-python",
   "name": "python",
   "nbconvert_exporter": "python",
   "pygments_lexer": "ipython3",
   "version": "3.6.2"
  }
 },
 "nbformat": 4,
 "nbformat_minor": 2
}
