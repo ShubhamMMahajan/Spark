{
 "cells": [
  {
   "cell_type": "code",
   "execution_count": null,
   "metadata": {},
   "outputs": [],
   "source": [
    "import findspark\n",
    "findspark.init()\n",
    "\n",
    "\n",
    "import pyspark\n",
    "import defaultdict\n",
    "\n",
    "\n",
    "sc = pyspark.SparkContext(appName=\"Graph Nodes\")\n",
    "\n",
    "file = open('Slashdot.txt', 'r')\n",
    "\n",
    "node_connection_dict = defaultdict(list)\n",
    "for line in file:\n",
    "    words = line.split()\n",
    "    original_node = words[0]\n",
    "    connecting_node = words[1]\n",
    "    node_connection_dict[original_node].append(connecting_node)\n",
    "\n",
    "#node_connection = sc.parallelize(node_connection_dict)\n",
    "number_of_connections_dict = new dict()\n",
    "for node in node_connection_dict.keys():\n",
    "    number_of_connections_dict[node] = len(node_connection_dict[key])\n",
    "\n",
    "connection_final_dict = defaultdict(list)    \n",
    "for node in node_connection_dict.keys():\n",
    "    for all_other_nodes in node_connection_dict.keys():\n",
    "        mutual_connections = 0\n",
    "        if all_other_nodes == node:\n",
    "            break\n",
    "        for connecting_nodes in node_connection_dict[node]:\n",
    "            if connecting_nodes in node_connection_dict[all_other_nodes]:\n",
    "                mutual_connections += 1\n",
    "        connection_final_dict[node].append((node, all_other_nodes, (mutual_connections / number_of_connections_dict[node])) * 100)\n",
    "connections = sc.parallelize(connection_final_dict)\n",
    "#number_of_connections = sc.parallelize(number_of_connections_dict)\n",
    "\n",
    "\n",
    "    \n",
    "\n",
    "    \n"
   ]
  }
 ],
 "metadata": {
  "kernelspec": {
   "display_name": "Python 3",
   "language": "python",
   "name": "python3"
  },
  "language_info": {
   "codemirror_mode": {
    "name": "ipython",
    "version": 3
   },
   "file_extension": ".py",
   "mimetype": "text/x-python",
   "name": "python",
   "nbconvert_exporter": "python",
   "pygments_lexer": "ipython3",
   "version": "3.6.2"
  }
 },
 "nbformat": 4,
 "nbformat_minor": 2
}
